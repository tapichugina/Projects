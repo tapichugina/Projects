{
 "cells": [
  {
   "cell_type": "markdown",
   "metadata": {},
   "source": [
    "# Preparing data\n",
    "\n",
    "https://www.kaggle.com/code/mgmarques/houses-prices-complete-solution/notebook"
   ]
  },
  {
   "cell_type": "code",
   "execution_count": 2,
   "metadata": {},
   "outputs": [],
   "source": [
    "import numpy as np\n",
    "import pandas as pd\n",
    "import matplotlib.pyplot as plt\n",
    "import seaborn as sns"
   ]
  },
  {
   "cell_type": "code",
   "execution_count": 3,
   "metadata": {},
   "outputs": [
    {
     "name": "stdout",
     "output_type": "stream",
     "text": [
      "train size=(1460, 81)\n",
      "train test=(1459, 80)\n"
     ]
    }
   ],
   "source": [
    "data_train=pd.read_csv('../data/house-prices-advanced-regression-techniques/train.csv')\n",
    "print('train size={}'.format(data_train.shape))\n",
    "\n",
    "data_test=pd.read_csv('../data/house-prices-advanced-regression-techniques/test.csv')\n",
    "print('train test={}'.format(data_test.shape))"
   ]
  },
  {
   "cell_type": "markdown",
   "metadata": {},
   "source": [
    "# Summary\n",
    "\n",
    "### Cleaning\n",
    "\n",
    "* columns with > 0.90 missing values <br>['PoolQC', 'MiscFeature', 'Alley']\n",
    "\n",
    "* most of the values present (see the 75 quantile below) in these variables are 0, thus these features can be cleared during the data preprocessing step.<br>\n",
    "['BsmtFinSF2','LowQualFinSF','BsmtHalfBath','EnclosedPorch','3SsnPorch','ScreenPorch','PoolArea','MiscVal']\n",
    "\n",
    "* imbalance classes big_class_ratio>=0.90<br>\n",
    "['Street','Utilities','LandSlope','Condition2','RoofMatl','BsmtCond','Heating','CentralAir','Electrical','Functional','GarageQual','GarageCond','PavedDrive','MiscFeature']\n",
    "\n",
    "* Highly correlated features r2>0.80 <br>\n",
    " 'YearBuilt','GarageYrBlt'\n",
    " 'GarageCars','GarageArea'\n",
    " 'TotRmsAbvGrd','GrLivArea'\n",
    " 'TotalBsmtSF','1stFlrSF'\n",
    "* remap ordinally values for the columns 'KitchenQual','ExterQual','ExterCond','HeatingQC','FireplaceQu','BsmtQual'\n",
    " \n",
    "### Feature engineering\n",
    "* total house ares TotalSF=TotalBsmtSF+TotRmsAbvGrd+2ndFlrSF\n",
    "* number of bathrooms =sum('FullBath'+'HalfBath'+'BsmtHalfBath'+'BsmtFullBath')\n",
    "\n",
    "### Feature scaling"
   ]
  },
  {
   "cell_type": "markdown",
   "metadata": {},
   "source": [
    "# Cleaning"
   ]
  },
  {
   "cell_type": "code",
   "execution_count": 4,
   "metadata": {},
   "outputs": [],
   "source": [
    "################################################################\n",
    "## Cleaning\n",
    "################################################################\n",
    "def clean_suspicious_columns(data):\n",
    "    empty_columns=['PoolQC','MiscFeature','Alley','Fence']\n",
    "    lot_of_zeros=['BsmtFinSF2','LowQualFinSF','EnclosedPorch','3SsnPorch','ScreenPorch','PoolArea','MiscVal']\n",
    "    imbalance_classes=['Street','Utilities','LandSlope','Condition2','RoofMatl','BsmtCond','Heating','CentralAir','Electrical','Functional','GarageQual','GarageCond','PavedDrive','MiscFeature']\n",
    "    correlated_features=['GarageYrBlt','GarageArea','GrLivArea','1stFlrSF']\n",
    "    \n",
    "    drop_columns=empty_columns+lot_of_zeros+imbalance_classes+correlated_features\n",
    "    data_clean_column=data.drop(drop_columns,axis=1)\n",
    "    return data_clean_column\n",
    "\n",
    "def remap_nan_to_none(data):\n",
    "    # NA for Basement section means no basement in the house\n",
    "    values = {\"BsmtQual\": 'None', \"BsmtCond\": 'None',\"BsmtFinType1\":'None',\"BsmtFinType2\":'None',\"BsmtExposure\":'None'}\n",
    "    data_remap=data.fillna(value=values)\n",
    "\n",
    "    # NA in 'FireplaceQu' means no FirePlace in the house (missing ratio 0.486468)\n",
    "    data_remap.fillna(value={\"FireplaceQu\":'None'},inplace=True)\n",
    "\n",
    "    # NA for Garage section means no Garage in the house (0.054471)\n",
    "    values = {\"GarageType\": 'None', \"GarageFinish\":'None',\"GarageQual\":'None',\"GarageCond\":'None'}\n",
    "    data_remap.fillna(value=values,inplace=True)\n",
    "    return data_remap\n",
    "\n",
    "\n",
    "def remap_ordinalcolumns(data):\n",
    "    qual_dict={'None':0,'Po':1,'Fa':2,'TA':3,'Gd':4,'Ex':5}\n",
    "    data_ord=data.copy()\n",
    "\n",
    "    column_list_remap=['KitchenQual','ExterQual','ExterCond','HeatingQC','FireplaceQu','BsmtQual']\n",
    "    for col in column_list_remap:\n",
    "        data_ord[col]=data_ord[col].map(qual_dict)\n",
    "    \n",
    "    dict_lot_shape={'Reg':3,'IR1':2,'IR2':1,'IR3':0}\n",
    "    data_ord['LotShape']=data_ord['LotShape'].map(dict_lot_shape)\n",
    "    \n",
    "    data_ord['MSSubClass']=data_ord['MSSubClass'].astype('object')\n",
    "    return data_ord"
   ]
  },
  {
   "cell_type": "code",
   "execution_count": 5,
   "metadata": {},
   "outputs": [],
   "source": [
    "data_train_cl1=clean_suspicious_columns(data_train)\n",
    "data_test_cl1=clean_suspicious_columns(data_test)\n",
    "\n",
    "data_train_cl2=remap_nan_to_none(data_train_cl1)\n",
    "data_test_cl2=remap_nan_to_none(data_test_cl1)\n",
    "\n",
    "# replace 'LotFrontage' NA with median value (0.166495)\n",
    "Median=np.nanmedian(data_train_cl2['LotFrontage'])\n",
    "data_train_cl3=data_train_cl2.fillna(value={'LotFrontage':Median})\n",
    "data_test_cl3=data_test_cl2.fillna(value={'LotFrontage':Median})\n",
    "\n",
    "# left features with missing ratio (0.005)\n",
    "data_train_cl4=data_train_cl3.dropna()\n",
    "data_test_cl4=data_test_cl3.dropna()\n",
    "\n",
    "data_train_cl5=remap_ordinalcolumns(data_train_cl4)\n",
    "data_test_cl5=remap_ordinalcolumns(data_test_cl4)"
   ]
  },
  {
   "cell_type": "markdown",
   "metadata": {},
   "source": [
    "# Feature engineering"
   ]
  },
  {
   "cell_type": "code",
   "execution_count": 6,
   "metadata": {},
   "outputs": [],
   "source": [
    "def feature_engineer(data):\n",
    "    data_eng=data.copy()\n",
    "    data_eng['Time_From_Remodel']=data_eng['YrSold']-data_eng['YearRemodAdd']\n",
    "    ## strange remodeled early than built\n",
    "    data_eng.drop(data_eng[data_eng['Time_From_Remodel']<0].index,inplace=True)\n",
    "\n",
    "    data_eng['TotalSF']=data_eng['TotalBsmtSF']+data_eng['TotRmsAbvGrd']+data_eng['2ndFlrSF']\n",
    "    data_eng['TotalBaths']=data_eng['FullBath']+data_eng['HalfBath']+data_eng['BsmtHalfBath']+data_eng['BsmtFullBath']\n",
    "    return data_eng"
   ]
  },
  {
   "cell_type": "code",
   "execution_count": 7,
   "metadata": {},
   "outputs": [],
   "source": [
    "data_train_6=feature_engineer(data_train_cl5)\n",
    "data_test_6=feature_engineer(data_test_cl5)"
   ]
  },
  {
   "cell_type": "code",
   "execution_count": 8,
   "metadata": {},
   "outputs": [],
   "source": [
    "data_train_6.to_csv('../data/train_cleaned.csv',index=False)\n",
    "data_test_6.to_csv('../data/test_cleaned.csv',index=False)"
   ]
  },
  {
   "cell_type": "code",
   "execution_count": null,
   "metadata": {},
   "outputs": [],
   "source": []
  }
 ],
 "metadata": {
  "kernelspec": {
   "display_name": "Python [conda env:data_analysis] *",
   "language": "python",
   "name": "conda-env-data_analysis-py"
  },
  "language_info": {
   "codemirror_mode": {
    "name": "ipython",
    "version": 3
   },
   "file_extension": ".py",
   "mimetype": "text/x-python",
   "name": "python",
   "nbconvert_exporter": "python",
   "pygments_lexer": "ipython3",
   "version": "3.8.5"
  }
 },
 "nbformat": 4,
 "nbformat_minor": 4
}

{
 "cells": [
  {
   "cell_type": "markdown",
   "metadata": {},
   "source": [
    "# Preparing data"
   ]
  },
  {
   "cell_type": "code",
   "execution_count": 4,
   "metadata": {},
   "outputs": [],
   "source": [
    "import numpy as np\n",
    "import pandas as pd\n",
    "import matplotlib.pyplot as plt\n",
    "import seaborn as sns"
   ]
  },
  {
   "cell_type": "code",
   "execution_count": 5,
   "metadata": {},
   "outputs": [
    {
     "name": "stdout",
     "output_type": "stream",
     "text": [
      "train size=(1460, 81)\n",
      "train test=(1459, 80)\n"
     ]
    }
   ],
   "source": [
    "data_train=pd.read_csv('../data/house-prices-advanced-regression-techniques/train.csv')\n",
    "print('train size={}'.format(data_train.shape))\n",
    "\n",
    "data_test=pd.read_csv('../data/house-prices-advanced-regression-techniques/test.csv')\n",
    "print('train test={}'.format(data_test.shape))"
   ]
  },
  {
   "cell_type": "markdown",
   "metadata": {},
   "source": [
    "## Drop data\n",
    "\n",
    "* columns with > 0.90 missing values <br>['PoolQC', 'MiscFeature', 'Alley']\n",
    "\n",
    "* most of the values present (see the 75 quantile below) in these variables are 0, thus these features can be cleared during the data preprocessing step.<br>\n",
    "['BsmtFinSF2','LowQualFinSF','BsmtHalfBath','EnclosedPorch','3SsnPorch','ScreenPorch','PoolArea','MiscVal']\n",
    "\n",
    "* imbalance classes big_class_ratio>=0.90<br>\n",
    "['Street','Utilities','LandSlope','Condition2','RoofMatl','BsmtCond','Heating','CentralAir','Electrical','Functional','GarageQual','GarageCond','PavedDrive','MiscFeature']\n",
    "\n",
    "* Highly correlated features r2>0.80 <br>\n",
    " 'YearBuilt','GarageYrBlt'\n",
    " 'GarageCars','GarageArea'\n",
    " 'TotRmsAbvGrd','GrLivArea'\n",
    " 'TotalBsmtSF','1stFlrSF'"
   ]
  },
  {
   "cell_type": "code",
   "execution_count": 44,
   "metadata": {},
   "outputs": [
    {
     "name": "stdout",
     "output_type": "stream",
     "text": [
      "30\n"
     ]
    }
   ],
   "source": [
    "empty_columns=['PoolQC','MiscFeature','Alley','Fence']\n",
    "lot_of_zeros=['BsmtFinSF2','LowQualFinSF','BsmtHalfBath','EnclosedPorch','3SsnPorch','ScreenPorch','PoolArea','MiscVal']\n",
    "imbalance_classes=['Street','Utilities','LandSlope','Condition2','RoofMatl','BsmtCond','Heating','CentralAir','Electrical','Functional','GarageQual','GarageCond','PavedDrive','MiscFeature']\n",
    "correlated_features=['GarageYrBlt','GarageArea','GrLivArea','1stFlrSF']\n",
    "\n",
    "drop_columns=empty_columns+lot_of_zeros+imbalance_classes+correlated_features\n",
    "\n",
    "data_train_cl=data_train.drop(drop_columns,axis=1)\n",
    "print(len(drop_columns))\n",
    "\n",
    "\n",
    "# NA for Basement section means no basement in the house\n",
    "values = {\"BsmtQual\": 'NoBsmt', \"BsmtCond\": 'NoBsmt',\"BsmtFinType1\":'NoBsmt',\"BsmtFinType2\":'NoBsmt',\"BsmtExposure\":'NoBsmt'}\n",
    "data_train_cl.fillna(value=values,inplace=True)\n",
    "\n",
    "# NA in 'FireplaceQu' means no FirePlace in the house (missing ratio 0.486468)\n",
    "data_train_cl.fillna(value={\"FireplaceQu\":\"NoFirePlace\"}, inplace=True)\n",
    "\n",
    "# NA for Garage section means no Garage in the house (0.054471)\n",
    "values = {\"GarageType\": 'NoGarage', \"GarageFinish\":\"NoGarage\",\"GarageQual\":\"NoGarage\",\"GarageCond\":\"NoGarage\"}\n",
    "data_train_cl.fillna(value=values,inplace=True)\n",
    "\n",
    "# replace 'LotFrontage' NA with median value (0.166495)\n",
    "data_train_cl.fillna(value={'LotFrontage':np.nanmedian(data_train_cl['LotFrontage'])},inplace=True)\n",
    "\n",
    "# left features with missing ratio (0.005)\n",
    "data_train_cl.dropna(inplace=True)"
   ]
  },
  {
   "cell_type": "markdown",
   "metadata": {},
   "source": [
    "## Feature Engineering"
   ]
  },
  {
   "cell_type": "code",
   "execution_count": 50,
   "metadata": {},
   "outputs": [
    {
     "data": {
      "text/plain": [
       "SalePrice       1.000000\n",
       "OverallQual     0.789997\n",
       "GarageCars      0.639686\n",
       "TotalBsmtSF     0.612971\n",
       "FullBath        0.562491\n",
       "TotRmsAbvGrd    0.536311\n",
       "YearBuilt       0.522896\n",
       "YearRemodAdd    0.507158\n",
       "MasVnrArea      0.477493\n",
       "Fireplaces      0.468930\n",
       "BsmtFinSF1      0.383977\n",
       "LotFrontage     0.333184\n",
       "WoodDeckSF      0.324650\n",
       "2ndFlrSF        0.322710\n",
       "OpenPorchSF     0.311268\n",
       "HalfBath        0.282040\n",
       "LotArea         0.264674\n",
       "BsmtFullBath    0.225027\n",
       "BsmtUnfSF       0.215740\n",
       "BedroomAbvGr    0.171934\n",
       "MoSold          0.045136\n",
       "Id             -0.025343\n",
       "YrSold         -0.026180\n",
       "OverallCond    -0.076294\n",
       "MSSubClass     -0.082813\n",
       "KitchenAbvGr   -0.137419\n",
       "Name: SalePrice, dtype: float64"
      ]
     },
     "execution_count": 50,
     "metadata": {},
     "output_type": "execute_result"
    }
   ],
   "source": [
    "data_train_cl.corr()['SalePrice'].sort_values(ascending=False)"
   ]
  },
  {
   "cell_type": "code",
   "execution_count": 57,
   "metadata": {},
   "outputs": [],
   "source": [
    "data_train_cl['HouseAge']=data_train_cl['YrSold']-data_train_cl['YearBuilt']\n",
    "data_train_cl['Time_From_Remodel']=data_train_cl['YrSold']-data_train_cl['YearRemodAdd']"
   ]
  },
  {
   "cell_type": "code",
   "execution_count": 58,
   "metadata": {},
   "outputs": [
    {
     "data": {
      "text/plain": [
       "SalePrice            1.000000\n",
       "OverallQual          0.789997\n",
       "GarageCars           0.639686\n",
       "TotalBsmtSF          0.612971\n",
       "FullBath             0.562491\n",
       "TotRmsAbvGrd         0.536311\n",
       "YearBuilt            0.522896\n",
       "YearRemodAdd         0.507158\n",
       "MasVnrArea           0.477493\n",
       "Fireplaces           0.468930\n",
       "BsmtFinSF1           0.383977\n",
       "LotFrontage          0.333184\n",
       "WoodDeckSF           0.324650\n",
       "2ndFlrSF             0.322710\n",
       "OpenPorchSF          0.311268\n",
       "HalfBath             0.282040\n",
       "LotArea              0.264674\n",
       "BsmtFullBath         0.225027\n",
       "BsmtUnfSF            0.215740\n",
       "BedroomAbvGr         0.171934\n",
       "MoSold               0.045136\n",
       "Id                  -0.025343\n",
       "YrSold              -0.026180\n",
       "OverallCond         -0.076294\n",
       "MSSubClass          -0.082813\n",
       "KitchenAbvGr        -0.137419\n",
       "Time_From_Remodel   -0.508947\n",
       "HouseAge            -0.523210\n",
       "Name: SalePrice, dtype: float64"
      ]
     },
     "execution_count": 58,
     "metadata": {},
     "output_type": "execute_result"
    }
   ],
   "source": [
    "data_train_cl.corr()['SalePrice'].sort_values(ascending=False)"
   ]
  },
  {
   "cell_type": "code",
   "execution_count": 59,
   "metadata": {},
   "outputs": [
    {
     "data": {
      "text/plain": [
       "-1"
      ]
     },
     "execution_count": 59,
     "metadata": {},
     "output_type": "execute_result"
    }
   ],
   "source": [
    "data_train_cl['Time_From_Remodel'].min()"
   ]
  },
  {
   "cell_type": "code",
   "execution_count": null,
   "metadata": {},
   "outputs": [],
   "source": []
  }
 ],
 "metadata": {
  "kernelspec": {
   "display_name": "Python [conda env:data_analysis] *",
   "language": "python",
   "name": "conda-env-data_analysis-py"
  },
  "language_info": {
   "codemirror_mode": {
    "name": "ipython",
    "version": 3
   },
   "file_extension": ".py",
   "mimetype": "text/x-python",
   "name": "python",
   "nbconvert_exporter": "python",
   "pygments_lexer": "ipython3",
   "version": "3.8.5"
  }
 },
 "nbformat": 4,
 "nbformat_minor": 4
}
